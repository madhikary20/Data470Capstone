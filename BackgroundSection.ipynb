{
 "cells": [
  {
   "cell_type": "markdown",
   "metadata": {},
   "source": [
    "# Investigating the Opioid Crisis"
   ]
  },
  {
   "cell_type": "markdown",
   "metadata": {},
   "source": [
    "Marcello Adhikary"
   ]
  },
  {
   "cell_type": "markdown",
   "metadata": {},
   "source": [
    "### Problem Statement and Background"
   ]
  },
  {
   "cell_type": "markdown",
   "metadata": {},
   "source": [
    "The opioid crisis has been prevalent in our country for decades, even though it has only been declared a public emergency since 2017 (“What”, 1). Despite the duration of this issue, not much information was available about it’s scale. In 2019, the Washington Post won a year-long legal battle with the DEA in order to release a database documenting the sale of every single prescription opioid from 2006 - 2012. This marked the first time that any real information on the sale of these pills was made public. The dataset includes every transaction of an opioid pill made in the United States during this seven year period. An analysis of this data would provide a never-before seen look at the sources of this crisis. The data for the whole country would provide a wide view of the trends of sales and popular sale locations. It would also allow us to examine which large pharmaceutical companies are to blame for the massive influx of pills we have seen in recent years. \n"
   ]
  },
  {
   "cell_type": "markdown",
   "metadata": {},
   "source": [
    "On a wide scale, I would like to view which states in the country are the most involved in the opioid crisis, both by volume and average pill number per capita. I would also like to investigate what possible factors may affect the opioid crisis. For example, do states with legalized medical/recreational marijuana have a lower use rate than those that do not? Does income affect opioid use on a state level? Or even a county level? Does the supplier of the pills remain the same country wide? Or are there certain companies that have cornered certain markets? All of these questions would provide great insight into what contributing factors have caused this national disaster. \n"
   ]
  },
  {
   "cell_type": "markdown",
   "metadata": {},
   "source": [
    "In the seven year span between 2006 and 2012, the United States saw about 100,000 deaths as a result of the opioid crisis (“Drilling”, 1). The daily death toll has reached over 130 in overdoses (“Opioid”,1). The economic burden of prescription opioid misuse in the United States is estimated $78.5 billion annually. This includes the cost of treatment, lost job productivity, and criminal justice costs (“Opioid”, 1). The misuse of prescription pain pills can easily result in transition to other street drugs, such as heroin. When user’s prescriptions run out, or they can no longer afford the pills, they turn to a cheaper, more convenient alternative. Roughly 80% of heroin users reported first using prescription opioids (“Opioid”, 1).  Communities and families have been torn apart as a result of this crisis, and it was all preventable. \n"
   ]
  },
  {
   "cell_type": "markdown",
   "metadata": {},
   "source": [
    "Often times, individuals who became addicted to prescription pain pills were not misusing the drug at all. They were simply using them as instructed. In some instances, surgeons prescribed patients upwards of 100 pills in the week following a surgery, instructing them to take one to two pills every four to six hours as needed (Appleby, 1). The sum of these pills greatly exceed guidelines released by academic medical centers. This high level of prescription promotes misuse and addiction. A patient simply following the doctors orders can quickly find themselves addicted to pain pills. In addition to an overprescription of pills leading to misuse, the leftover pills can often find their way to the streets (Appleby, 1). When a doctor assigns a patient too many pills, the patient can then sell them for a profit, fueling the incredibly high demand. \n"
   ]
  },
  {
   "cell_type": "markdown",
   "metadata": {},
   "source": [
    "Although there is much known about the aftermath of the opioid epidemic, not much is known about the roots. Until the release of this dataset, there was very little information available about the distributors of pain pills, and the rate that they were being dispersed. Analyzing this newly-released database provides me with the unique experience to be one of the first to explore the trends and patterns that lie inside. The information that reside in this data could prove to be invaluable in the fight against the prescription opioid crisis. \n"
   ]
  },
  {
   "cell_type": "markdown",
   "metadata": {},
   "source": [
    "## Citations"
   ]
  },
  {
   "cell_type": "markdown",
   "metadata": {},
   "source": [
    "Appleby, Julie, et al. “While Addiction Crisis Raged, Many Surgeons Overprescribed Opioids.” STAT, 21 June 2019, www.statnews.com/2019/06/21/surgeons-overprescribed-opioids-analysis-shows/.\n",
    "\n",
    "“Drilling into the DEA's Pain Pill Database.” The Washington Post, WP Company, 21 July 2019, www.washingtonpost.com/graphics/2019/investigations/dea-pain-pill-database/.\n",
    "\n",
    "National Institute on Drug Abuse. “Opioid Overdose Crisis.” NIDA, 22 Jan. 2019, www.drugabuse.gov/drugs-abuse/opioids/opioid-overdose-crisis.\n",
    "\n",
    "Public Affairs. “What Is the U.S. Opioid Epidemic?” HHS.gov, Https://Plus.google.com/ HHS, www.hhs.gov/opioids/about-the-epidemic/index.html."
   ]
  }
 ],
 "metadata": {
  "kernelspec": {
   "display_name": "Python 3",
   "language": "python",
   "name": "python3"
  },
  "language_info": {
   "codemirror_mode": {
    "name": "ipython",
    "version": 3
   },
   "file_extension": ".py",
   "mimetype": "text/x-python",
   "name": "python",
   "nbconvert_exporter": "python",
   "pygments_lexer": "ipython3",
   "version": "3.4.3"
  }
 },
 "nbformat": 4,
 "nbformat_minor": 0
}
